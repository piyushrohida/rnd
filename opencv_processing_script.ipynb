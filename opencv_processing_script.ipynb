{
 "cells": [
  {
   "cell_type": "code",
   "execution_count": 1,
   "metadata": {},
   "outputs": [
    {
     "name": "stderr",
     "output_type": "stream",
     "text": [
      "Using TensorFlow backend.\n"
     ]
    }
   ],
   "source": [
    "import numpy as np\n",
    "from keras import layers\n",
    "from keras.layers import Input, Dense, Activation, ZeroPadding2D, BatchNormalization, Flatten, Conv2D\n",
    "from keras.layers import AveragePooling2D, MaxPooling2D, Dropout, GlobalMaxPooling2D, GlobalAveragePooling2D\n",
    "from keras.models import Model\n",
    "from keras.utils import layer_utils\n",
    "from keras.utils.data_utils import get_file\n",
    "from keras.applications.imagenet_utils import preprocess_input\n",
    "#import pydot\n",
    "from IPython.display import SVG\n",
    "from keras.utils.vis_utils import model_to_dot\n",
    "from keras.utils import plot_model\n",
    "from keras.preprocessing.image import ImageDataGenerator,load_img,img_to_array\n",
    "from keras.applications import imagenet_utils\n",
    "import keras.backend as K\n",
    "K.set_image_data_format('channels_last')\n",
    "from keras import applications\n",
    "from matplotlib.pyplot import imshow\n",
    "from keras.preprocessing import image\n",
    "from keras import applications\n",
    "from keras.models import Sequential\n",
    "import os,sys\n",
    "import cv2"
   ]
  },
  {
   "cell_type": "code",
   "execution_count": 2,
   "metadata": {},
   "outputs": [],
   "source": [
    "\n",
    "import tensorflow as tf\n",
    "import numpy as np \n",
    "import pandas as pd\n",
    "import matplotlib.pyplot as plt\n",
    "from PIL import Image as PImage\n",
    "import scipy.misc as ms\n",
    "import cv2,os\n",
    "import time\n",
    "%matplotlib inline"
   ]
  },
  {
   "cell_type": "code",
   "execution_count": 3,
   "metadata": {},
   "outputs": [
    {
     "data": {
      "text/plain": [
       "'/home/wipro/pro'"
      ]
     },
     "execution_count": 3,
     "metadata": {},
     "output_type": "execute_result"
    }
   ],
   "source": [
    "pwd\n"
   ]
  },
  {
   "cell_type": "code",
   "execution_count": 8,
   "metadata": {},
   "outputs": [],
   "source": [
    "def extract1(path) :\n",
    "    #print(\"data\"+\"/\"+str(path))\n",
    "    cam = cv2.VideoCapture(path);\n",
    "    l1=path.split('.')[0]\n",
    "    total_frames=cam.get(7);\n",
    "    i=1;\n",
    "    cnt=0;\n",
    "    while i<total_frames:\n",
    "        frame_no =i;\n",
    "        #print(frame_no);\n",
    "        cam.set(1,frame_no); # line for setting frame number\n",
    "        rec, img = cam.read()\n",
    "        #plt.imshow(img)\n",
    "        #plt.show(block=False)\n",
    "        #time.sleep(1);\n",
    "        #plt.close();\n",
    "        if(cnt<400):\n",
    "            cv2.imwrite(\"train\"+\"/\"+str(l1)+\"/\"+str(i)+\"my\"+\".jpg\", img)\n",
    "        else:\n",
    "             cv2.imwrite(\"test\"+\"/\"+str(l1)+\"/\"+str(i)+\"my\"+\".jpg\", img)\n",
    "        cnt=cnt+1\n",
    "        i +=3; # value  to be played around with\n",
    "    return ;"
   ]
  },
  {
   "cell_type": "code",
   "execution_count": 13,
   "metadata": {},
   "outputs": [],
   "source": [
    "extract1('U.mp4');\n",
    "    "
   ]
  },
  {
   "cell_type": "markdown",
   "metadata": {},
   "source": [
    " os.mkdir('real_data1')"
   ]
  },
  {
   "cell_type": "code",
   "execution_count": null,
   "metadata": {},
   "outputs": [],
   "source": []
  }
 ],
 "metadata": {
  "kernelspec": {
   "display_name": "Python 3",
   "language": "python",
   "name": "python3"
  },
  "language_info": {
   "codemirror_mode": {
    "name": "ipython",
    "version": 3
   },
   "file_extension": ".py",
   "mimetype": "text/x-python",
   "name": "python",
   "nbconvert_exporter": "python",
   "pygments_lexer": "ipython3",
   "version": "3.5.2"
  }
 },
 "nbformat": 4,
 "nbformat_minor": 2
}
